{
 "cells": [
  {
   "cell_type": "markdown",
   "id": "0940136c",
   "metadata": {},
   "source": [
    "# Powerball Theoretical Baseline Analysis\n",
    "\n",
    "**Question**: What jackpot size makes a $2 Powerball ticket +EV under ideal conditions?\n",
    "\n",
    "**Ideal Conditions**:\n",
    "- Every ticket is unique (no duplicates/sharing)\n",
    "- No cap on tickets purchased\n",
    "- No purchasing surge (constant sales regardless of jackpot)\n",
    "- No taxes or lump sum discount\n",
    "- Pure mathematical calculation\n",
    "\n",
    "This establishes the absolute theoretical minimum jackpot needed for +EV.\n"
   ]
  },
  {
   "cell_type": "code",
   "execution_count": 8,
   "id": "8110f558",
   "metadata": {},
   "outputs": [
    {
     "name": "stdout",
     "output_type": "stream",
     "text": [
      "📊 Theoretical Powerball EV Analysis\n",
      "==================================================\n"
     ]
    }
   ],
   "source": [
    "# Cell 2 — imports & header\n",
    "import numpy as np\n",
    "import matplotlib.pyplot as plt\n",
    "\n",
    "print(\"📊 Theoretical Powerball EV Analysis\")\n",
    "print(\"=\"*50)\n"
   ]
  },
  {
   "cell_type": "code",
   "execution_count": 9,
   "id": "f84c8c90",
   "metadata": {},
   "outputs": [
    {
     "name": "stdout",
     "output_type": "stream",
     "text": [
      "🎯 Game Parameters:\n",
      "   Jackpot odds: 1 in 292,201,338\n",
      "   Fixed prize EV: $0.320768\n",
      "   Ticket cost: $2.00\n",
      "   Break-even target: $2.00\n"
     ]
    }
   ],
   "source": [
    "# Cell 3 — constants\n",
    "JACKPOT_ODDS = 292_201_338   # 1 in 292.2 million chance to win jackpot\n",
    "FIXED_EV = 0.320768          # Expected value from all non-jackpot prizes (assumed)\n",
    "TICKET_COST = 2.00           # Cost per ticket\n",
    "\n",
    "print(\"🎯 Game Parameters:\")\n",
    "print(f\"   Jackpot odds: 1 in {JACKPOT_ODDS:,}\")\n",
    "print(f\"   Fixed prize EV: ${FIXED_EV:.6f}\")\n",
    "print(f\"   Ticket cost: ${TICKET_COST:.2f}\")\n",
    "print(f\"   Break-even target: ${TICKET_COST:.2f}\")\n"
   ]
  },
  {
   "cell_type": "code",
   "execution_count": 10,
   "id": "e5057395",
   "metadata": {},
   "outputs": [
    {
     "name": "stdout",
     "output_type": "stream",
     "text": [
      "\n",
      "🧮 THEORETICAL BREAKEVEN CALCULATION:\n",
      "   Required jackpot EV: $1.679232\n",
      "   Breakeven jackpot: $490,673,837\n",
      "   Breakeven jackpot: $490.7 million\n",
      "\n",
      "✅ VERIFICATION:\n",
      "   EV at $490.7M jackpot: $2.000000\n",
      "   Profit at breakeven: $0.000000\n",
      "   Is +EV? True\n"
     ]
    }
   ],
   "source": [
    "# Cell 4 — EV functions + breakeven\n",
    "def calculate_theoretical_ev(jackpot_amount_dollars: float) -> float:\n",
    "    \"\"\"\n",
    "    EV = (Jackpot / 292,201,338) + Fixed Prize EV\n",
    "    \"\"\"\n",
    "    jackpot_ev = jackpot_amount_dollars / JACKPOT_ODDS\n",
    "    return jackpot_ev + FIXED_EV\n",
    "\n",
    "def calculate_breakeven_jackpot():\n",
    "    \"\"\"\n",
    "    Solve for Jackpot where EV == TICKET_COST:\n",
    "    TICKET_COST <= (Jackpot / JACKPOT_ODDS) + FIXED_EV\n",
    "    ⇒ (TICKET_COST - FIXED_EV) <= Jackpot / JACKPOT_ODDS\n",
    "    ⇒ Jackpot >= (TICKET_COST - FIXED_EV) * JACKPOT_ODDS\n",
    "    \"\"\"\n",
    "    required_jackpot_ev = TICKET_COST - FIXED_EV\n",
    "    breakeven_jackpot = required_jackpot_ev * JACKPOT_ODDS\n",
    "    return breakeven_jackpot, required_jackpot_ev\n",
    "\n",
    "breakeven_amount, required_ev = calculate_breakeven_jackpot()\n",
    "\n",
    "print(\"\\n🧮 THEORETICAL BREAKEVEN CALCULATION:\")\n",
    "print(f\"   Required jackpot EV: ${required_ev:.6f}\")\n",
    "print(f\"   Breakeven jackpot: ${breakeven_amount:,.0f}\")\n",
    "print(f\"   Breakeven jackpot: ${breakeven_amount/1_000_000:.1f} million\")\n",
    "\n",
    "# Verify\n",
    "verification_ev = calculate_theoretical_ev(breakeven_amount)\n",
    "print(\"\\n✅ VERIFICATION:\")\n",
    "print(f\"   EV at ${breakeven_amount/1_000_000:.1f}M jackpot: ${verification_ev:.6f}\")\n",
    "print(f\"   Profit at breakeven: ${verification_ev - TICKET_COST:.6f}\")\n",
    "print(f\"   Is +EV? {verification_ev >= TICKET_COST}\")\n",
    "\n",
    "# Guard: EV at breakeven should equal ticket cost\n",
    "assert abs(verification_ev - TICKET_COST) < 1e-9\n"
   ]
  },
  {
   "cell_type": "code",
   "execution_count": 11,
   "id": "c9f4e6db",
   "metadata": {},
   "outputs": [
    {
     "name": "stdout",
     "output_type": "stream",
     "text": [
      "\n",
      "📈 EV AT VARIOUS JACKPOT SIZES (Theoretical):\n",
      "Jackpot      EV         Profit       ROI        Status\n",
      "----------------------------------------------------------\n",
      "$ 100M     $  0.6630   $ -1.3370     -66.9%   -EV\n",
      "$ 200M     $  1.0052   $ -0.9948     -49.7%   -EV\n",
      "$ 300M     $  1.3475   $ -0.6525     -32.6%   -EV\n",
      "$ 400M     $  1.6897   $ -0.3103     -15.5%   -EV\n",
      "$ 490M     $  1.9977   $ -0.0023      -0.1%   -EV\n",
      "$ 500M     $  2.0319   $  0.0319      +1.6%   +EV\n",
      "$ 600M     $  2.3741   $  0.3741     +18.7%   +EV\n",
      "$ 800M     $  3.0586   $  1.0586     +52.9%   +EV\n",
      "$1,000M     $  3.7431   $  1.7431     +87.2%   +EV\n"
     ]
    }
   ],
   "source": [
    "# Cell 5 — EV table for common jackpot sizes\n",
    "test_jackpots_millions = [100, 200, 300, 400, 490, 500, 600, 800, 1000]\n",
    "\n",
    "print(\"\\n📈 EV AT VARIOUS JACKPOT SIZES (Theoretical):\")\n",
    "print(f\"{'Jackpot':<12} {'EV':<10} {'Profit':<12} {'ROI':<10} {'Status':<6}\")\n",
    "print(\"-\" * 58)\n",
    "\n",
    "for jm in test_jackpots_millions:\n",
    "    jackpot_amount = jm * 1_000_000\n",
    "    ev = calculate_theoretical_ev(jackpot_amount)\n",
    "    profit = ev - TICKET_COST\n",
    "    roi = (profit / TICKET_COST) * 100\n",
    "    status = \"+EV\" if ev >= TICKET_COST else \"-EV\"\n",
    "    print(f\"${jm:>4,.0f}M     ${ev:>8.4f}   ${profit:>8.4f}    {roi:>+6.1f}%   {status}\")\n"
   ]
  }
 ],
 "metadata": {
  "kernelspec": {
   "display_name": "Python 3",
   "language": "python",
   "name": "python3"
  },
  "language_info": {
   "codemirror_mode": {
    "name": "ipython",
    "version": 3
   },
   "file_extension": ".py",
   "mimetype": "text/x-python",
   "name": "python",
   "nbconvert_exporter": "python",
   "pygments_lexer": "ipython3",
   "version": "3.12.7"
  }
 },
 "nbformat": 4,
 "nbformat_minor": 5
}
